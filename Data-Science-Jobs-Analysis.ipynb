{
 "cells": [
  {
   "cell_type": "markdown",
   "metadata": {},
   "source": [
    "# Analysis on Data Science Jobs around The World\n",
    "\n",
    "Along with the development of technology, data science jobs have become increasingly popular and are in great demand by employers in recent years. The goal of this analysis is to provide data science workers with perspective on the value of their work and skills. Companies could also understand if they could potentially hire scientists from other cities around the world. The dataset we're using in this notebook is retrieved from kaggle. This dataset contains over 60.000 data science job informations, such as job title, city, company, source, link to the job post, etc. from more than 20 countries around the world. "
   ]
  },
  {
   "cell_type": "markdown",
   "metadata": {},
   "source": [
    "## Importing Packages & Libraries\n",
    "\n",
    "First, we'll install and import all the packages & libraries needed for this analysis process."
   ]
  },
  {
   "cell_type": "code",
   "execution_count": 1,
   "metadata": {},
   "outputs": [],
   "source": [
    "!pip install jovian opendatasets --upgrade --quiet"
   ]
  },
  {
   "cell_type": "code",
   "execution_count": 2,
   "metadata": {},
   "outputs": [],
   "source": [
    "import jovian\n",
    "import pandas as pd\n",
    "import numpy as np\n",
    "import matplotlib.pyplot as plt\n",
    "import seaborn as sns\n",
    "import opendatasets as od\n",
    "%matplotlib inline\n",
    "import warnings\n",
    "warnings.filterwarnings('ignore') "
   ]
  },
  {
   "cell_type": "markdown",
   "metadata": {},
   "source": [
    "## Downloading the Dataset\n",
    "\n",
    "The dataset we'll be using in this analysis is stored in kaggle website. To get access to the dataset, we'll use the opendatasets method as seen below."
   ]
  },
  {
   "cell_type": "code",
   "execution_count": 3,
   "metadata": {},
   "outputs": [],
   "source": [
    "dataset_url = 'https://www.kaggle.com/jonatancr/data-science-jobs-around-the-world' "
   ]
  },
  {
   "cell_type": "code",
   "execution_count": 4,
   "metadata": {},
   "outputs": [
    {
     "name": "stdout",
     "output_type": "stream",
     "text": [
      "Please provide your Kaggle credentials to download this dataset. Learn more: http://bit.ly/kaggle-creds\n",
      "Your Kaggle username: theodorehartanto\n",
      "Your Kaggle Key: ········\n"
     ]
    },
    {
     "name": "stderr",
     "output_type": "stream",
     "text": [
      "100%|██████████| 1.56M/1.56M [00:00<00:00, 66.1MB/s]"
     ]
    },
    {
     "name": "stdout",
     "output_type": "stream",
     "text": [
      "Downloading data-science-jobs-around-the-world.zip to ./data-science-jobs-around-the-world\n",
      "\n"
     ]
    },
    {
     "name": "stderr",
     "output_type": "stream",
     "text": [
      "\n"
     ]
    }
   ],
   "source": [
    "od.download(dataset_url)"
   ]
  },
  {
   "cell_type": "markdown",
   "metadata": {},
   "source": [
    "The dataset has been downloaded and extracted."
   ]
  },
  {
   "cell_type": "code",
   "execution_count": 5,
   "metadata": {},
   "outputs": [],
   "source": [
    "data_science_df = pd.read_csv('data-science-jobs-around-the-world/AIJobsIndustry.csv')"
   ]
  },
  {
   "cell_type": "markdown",
   "metadata": {},
   "source": [
    "### Quick look at the dataset and its general info (index, columns, non-null data count, datatype)\n",
    "\n",
    "This step is necessary so we can have a general understanding of the dataset that we'll analyse."
   ]
  },
  {
   "cell_type": "code",
   "execution_count": 6,
   "metadata": {},
   "outputs": [
    {
     "data": {
      "text/html": [
       "<div>\n",
       "<style scoped>\n",
       "    .dataframe tbody tr th:only-of-type {\n",
       "        vertical-align: middle;\n",
       "    }\n",
       "\n",
       "    .dataframe tbody tr th {\n",
       "        vertical-align: top;\n",
       "    }\n",
       "\n",
       "    .dataframe thead th {\n",
       "        text-align: right;\n",
       "    }\n",
       "</style>\n",
       "<table border=\"1\" class=\"dataframe\">\n",
       "  <thead>\n",
       "    <tr style=\"text-align: right;\">\n",
       "      <th></th>\n",
       "      <th>JobTitle</th>\n",
       "      <th>Company</th>\n",
       "      <th>Location</th>\n",
       "      <th>CompanyReviews</th>\n",
       "      <th>Link</th>\n",
       "    </tr>\n",
       "  </thead>\n",
       "  <tbody>\n",
       "    <tr>\n",
       "      <th>0</th>\n",
       "      <td>NaN</td>\n",
       "      <td>NaN</td>\n",
       "      <td>United States</td>\n",
       "      <td>NaN</td>\n",
       "      <td>https://www.indeed.com/jobs?q=Python+Data&amp;star...</td>\n",
       "    </tr>\n",
       "    <tr>\n",
       "      <th>1</th>\n",
       "      <td>Data Science Development Program- Junior Data ...</td>\n",
       "      <td>\\n    MassMutual</td>\n",
       "      <td>Amherst, MA 01002</td>\n",
       "      <td>628 reviews</td>\n",
       "      <td>https://www.indeed.com/jobs?q=Python+Data&amp;star...</td>\n",
       "    </tr>\n",
       "    <tr>\n",
       "      <th>2</th>\n",
       "      <td>Sr. Data Scientist</td>\n",
       "      <td>\\n    Catasys</td>\n",
       "      <td>Home Based</td>\n",
       "      <td>6 reviews</td>\n",
       "      <td>https://www.indeed.com/jobs?q=Python+Data&amp;star...</td>\n",
       "    </tr>\n",
       "    <tr>\n",
       "      <th>3</th>\n",
       "      <td>Object-oriented Programmer</td>\n",
       "      <td>\\n    Bank of America</td>\n",
       "      <td>New York, NY 10281</td>\n",
       "      <td>19,303 reviews</td>\n",
       "      <td>https://www.indeed.com/jobs?q=Python+Data&amp;star...</td>\n",
       "    </tr>\n",
       "    <tr>\n",
       "      <th>4</th>\n",
       "      <td>Entry-Level Cognitive / AI / Machine Learning ...</td>\n",
       "      <td>\\n    IBM</td>\n",
       "      <td>Austin, TX 73344</td>\n",
       "      <td>18,926 reviews</td>\n",
       "      <td>https://www.indeed.com/jobs?q=Python+Data&amp;star...</td>\n",
       "    </tr>\n",
       "  </tbody>\n",
       "</table>\n",
       "</div>"
      ],
      "text/plain": [
       "                                            JobTitle                Company  \\\n",
       "0                                                NaN                    NaN   \n",
       "1  Data Science Development Program- Junior Data ...       \\n    MassMutual   \n",
       "2                                 Sr. Data Scientist          \\n    Catasys   \n",
       "3                         Object-oriented Programmer  \\n    Bank of America   \n",
       "4  Entry-Level Cognitive / AI / Machine Learning ...              \\n    IBM   \n",
       "\n",
       "              Location  CompanyReviews  \\\n",
       "0        United States             NaN   \n",
       "1    Amherst, MA 01002     628 reviews   \n",
       "2           Home Based       6 reviews   \n",
       "3  New York, NY 10281   19,303 reviews   \n",
       "4     Austin, TX 73344  18,926 reviews   \n",
       "\n",
       "                                                Link  \n",
       "0  https://www.indeed.com/jobs?q=Python+Data&star...  \n",
       "1  https://www.indeed.com/jobs?q=Python+Data&star...  \n",
       "2  https://www.indeed.com/jobs?q=Python+Data&star...  \n",
       "3  https://www.indeed.com/jobs?q=Python+Data&star...  \n",
       "4  https://www.indeed.com/jobs?q=Python+Data&star...  "
      ]
     },
     "execution_count": 6,
     "metadata": {},
     "output_type": "execute_result"
    }
   ],
   "source": [
    "data_science_df.head()"
   ]
  },
  {
   "cell_type": "code",
   "execution_count": 7,
   "metadata": {},
   "outputs": [
    {
     "name": "stdout",
     "output_type": "stream",
     "text": [
      "<class 'pandas.core.frame.DataFrame'>\n",
      "RangeIndex: 65670 entries, 0 to 65669\n",
      "Data columns (total 5 columns):\n",
      " #   Column          Non-Null Count  Dtype \n",
      "---  ------          --------------  ----- \n",
      " 0   JobTitle        56603 non-null  object\n",
      " 1   Company         23459 non-null  object\n",
      " 2   Location        65670 non-null  object\n",
      " 3   CompanyReviews  27705 non-null  object\n",
      " 4   Link            65670 non-null  object\n",
      "dtypes: object(5)\n",
      "memory usage: 2.5+ MB\n"
     ]
    }
   ],
   "source": [
    "data_science_df.info()"
   ]
  },
  {
   "cell_type": "markdown",
   "metadata": {},
   "source": [
    "## Data Preparation and Cleaning\n",
    "\n",
    "As we've seen from the quick look of the dataset, the current dataset that we have is not ready to be used yet. There are still some missing values and typos that we have to clean in order to make our data analysis more accurate."
   ]
  },
  {
   "cell_type": "markdown",
   "metadata": {},
   "source": [
    "### Cleaning rows with null values\n",
    "\n",
    "We'll be dropping any null values found in the 'JobTitle', 'Company', and 'Location' columns as any null values in those columns will make the information unreliable."
   ]
  },
  {
   "cell_type": "code",
   "execution_count": 8,
   "metadata": {},
   "outputs": [],
   "source": [
    "data_science_filtered = data_science_df.copy()\n",
    "\n",
    "data_science_filtered = data_science_filtered.dropna(subset=['JobTitle'])"
   ]
  },
  {
   "cell_type": "code",
   "execution_count": 9,
   "metadata": {},
   "outputs": [],
   "source": [
    "data_science_filtered = data_science_filtered.dropna(subset=['Company'])"
   ]
  },
  {
   "cell_type": "code",
   "execution_count": 10,
   "metadata": {},
   "outputs": [],
   "source": [
    "data_science_filtered = data_science_filtered.dropna(subset=['Location'])"
   ]
  },
  {
   "cell_type": "markdown",
   "metadata": {},
   "source": [
    "Let's take another look at our dataset's general info after we dropped the null values."
   ]
  },
  {
   "cell_type": "code",
   "execution_count": 11,
   "metadata": {},
   "outputs": [
    {
     "name": "stdout",
     "output_type": "stream",
     "text": [
      "<class 'pandas.core.frame.DataFrame'>\n",
      "Int64Index: 23459 entries, 1 to 65666\n",
      "Data columns (total 5 columns):\n",
      " #   Column          Non-Null Count  Dtype \n",
      "---  ------          --------------  ----- \n",
      " 0   JobTitle        23459 non-null  object\n",
      " 1   Company         23459 non-null  object\n",
      " 2   Location        23459 non-null  object\n",
      " 3   CompanyReviews  23459 non-null  object\n",
      " 4   Link            23459 non-null  object\n",
      "dtypes: object(5)\n",
      "memory usage: 1.1+ MB\n"
     ]
    }
   ],
   "source": [
    "data_science_filtered.info()"
   ]
  },
  {
   "cell_type": "markdown",
   "metadata": {},
   "source": [
    "### Fixing the typo in 'Company' column"
   ]
  },
  {
   "cell_type": "markdown",
   "metadata": {},
   "source": [
    "If we look at the 'Company' column closely. The values have a little typo at the beginning. So let's remove it."
   ]
  },
  {
   "cell_type": "code",
   "execution_count": 12,
   "metadata": {
    "scrolled": true
   },
   "outputs": [
    {
     "data": {
      "text/html": [
       "<div>\n",
       "<style scoped>\n",
       "    .dataframe tbody tr th:only-of-type {\n",
       "        vertical-align: middle;\n",
       "    }\n",
       "\n",
       "    .dataframe tbody tr th {\n",
       "        vertical-align: top;\n",
       "    }\n",
       "\n",
       "    .dataframe thead th {\n",
       "        text-align: right;\n",
       "    }\n",
       "</style>\n",
       "<table border=\"1\" class=\"dataframe\">\n",
       "  <thead>\n",
       "    <tr style=\"text-align: right;\">\n",
       "      <th></th>\n",
       "      <th>JobTitle</th>\n",
       "      <th>Company</th>\n",
       "      <th>Location</th>\n",
       "      <th>CompanyReviews</th>\n",
       "      <th>Link</th>\n",
       "    </tr>\n",
       "  </thead>\n",
       "  <tbody>\n",
       "    <tr>\n",
       "      <th>1</th>\n",
       "      <td>Data Science Development Program- Junior Data ...</td>\n",
       "      <td>MassMutual</td>\n",
       "      <td>Amherst, MA 01002</td>\n",
       "      <td>628 reviews</td>\n",
       "      <td>https://www.indeed.com/jobs?q=Python+Data&amp;star...</td>\n",
       "    </tr>\n",
       "    <tr>\n",
       "      <th>2</th>\n",
       "      <td>Sr. Data Scientist</td>\n",
       "      <td>Catasys</td>\n",
       "      <td>Home Based</td>\n",
       "      <td>6 reviews</td>\n",
       "      <td>https://www.indeed.com/jobs?q=Python+Data&amp;star...</td>\n",
       "    </tr>\n",
       "    <tr>\n",
       "      <th>3</th>\n",
       "      <td>Object-oriented Programmer</td>\n",
       "      <td>Bank of America</td>\n",
       "      <td>New York, NY 10281</td>\n",
       "      <td>19,303 reviews</td>\n",
       "      <td>https://www.indeed.com/jobs?q=Python+Data&amp;star...</td>\n",
       "    </tr>\n",
       "    <tr>\n",
       "      <th>4</th>\n",
       "      <td>Entry-Level Cognitive / AI / Machine Learning ...</td>\n",
       "      <td>IBM</td>\n",
       "      <td>Austin, TX 73344</td>\n",
       "      <td>18,926 reviews</td>\n",
       "      <td>https://www.indeed.com/jobs?q=Python+Data&amp;star...</td>\n",
       "    </tr>\n",
       "    <tr>\n",
       "      <th>6</th>\n",
       "      <td>Healthcare Programmer</td>\n",
       "      <td>Mathematica Policy Research</td>\n",
       "      <td>Woodlawn, MD</td>\n",
       "      <td>48 reviews</td>\n",
       "      <td>https://www.indeed.com/jobs?q=Python+Data&amp;star...</td>\n",
       "    </tr>\n",
       "  </tbody>\n",
       "</table>\n",
       "</div>"
      ],
      "text/plain": [
       "                                            JobTitle  \\\n",
       "1  Data Science Development Program- Junior Data ...   \n",
       "2                                 Sr. Data Scientist   \n",
       "3                         Object-oriented Programmer   \n",
       "4  Entry-Level Cognitive / AI / Machine Learning ...   \n",
       "6                              Healthcare Programmer   \n",
       "\n",
       "                       Company             Location  CompanyReviews  \\\n",
       "1                   MassMutual    Amherst, MA 01002     628 reviews   \n",
       "2                      Catasys           Home Based       6 reviews   \n",
       "3              Bank of America  New York, NY 10281   19,303 reviews   \n",
       "4                          IBM     Austin, TX 73344  18,926 reviews   \n",
       "6  Mathematica Policy Research         Woodlawn, MD      48 reviews   \n",
       "\n",
       "                                                Link  \n",
       "1  https://www.indeed.com/jobs?q=Python+Data&star...  \n",
       "2  https://www.indeed.com/jobs?q=Python+Data&star...  \n",
       "3  https://www.indeed.com/jobs?q=Python+Data&star...  \n",
       "4  https://www.indeed.com/jobs?q=Python+Data&star...  \n",
       "6  https://www.indeed.com/jobs?q=Python+Data&star...  "
      ]
     },
     "execution_count": 12,
     "metadata": {},
     "output_type": "execute_result"
    }
   ],
   "source": [
    "data_science_filtered['Company'] = data_science_filtered['Company'].map(lambda x: str(x)[5:])\n",
    "data_science_filtered.head()"
   ]
  },
  {
   "cell_type": "markdown",
   "metadata": {},
   "source": [
    "## Exploratory Analysis and Visualization\n",
    "\n",
    "With our data ready to be used, in this section we'll start analyzing our dataset and visualize it using various type of graphs.\n",
    "\n"
   ]
  },
  {
   "cell_type": "markdown",
   "metadata": {},
   "source": [
    "### Top 10 Most Wanted Data Science Related Jobs\n",
    "\n",
    "We'll group our data by the 'JobTitle' column, and count how many companies are looking for that job. The result will be assigned into a new dataframe so it'll be easier to focus on analyzing the result."
   ]
  },
  {
   "cell_type": "code",
   "execution_count": 13,
   "metadata": {},
   "outputs": [],
   "source": [
    "most_common_jobs = data_science_filtered.groupby([\"JobTitle\"]).Company.count()\n",
    "most_common_jobs = most_common_jobs.reset_index(name=\"Company\")\n",
    "most_common_jobs = most_common_jobs.sort_values([\"Company\"], ascending=False)\n",
    "most_common_jobs = most_common_jobs.head(10)"
   ]
  },
  {
   "cell_type": "code",
   "execution_count": 14,
   "metadata": {},
   "outputs": [],
   "source": [
    "most_common_jobs = most_common_jobs.reset_index()\n",
    "most_common_jobs = most_common_jobs.drop(['index'], axis=1)"
   ]
  },
  {
   "cell_type": "markdown",
   "metadata": {},
   "source": [
    "Here we have our \"top 10 most wantes data science related jobs\" data in dataframe form"
   ]
  },
  {
   "cell_type": "code",
   "execution_count": 15,
   "metadata": {},
   "outputs": [
    {
     "data": {
      "text/html": [
       "<div>\n",
       "<style scoped>\n",
       "    .dataframe tbody tr th:only-of-type {\n",
       "        vertical-align: middle;\n",
       "    }\n",
       "\n",
       "    .dataframe tbody tr th {\n",
       "        vertical-align: top;\n",
       "    }\n",
       "\n",
       "    .dataframe thead th {\n",
       "        text-align: right;\n",
       "    }\n",
       "</style>\n",
       "<table border=\"1\" class=\"dataframe\">\n",
       "  <thead>\n",
       "    <tr style=\"text-align: right;\">\n",
       "      <th></th>\n",
       "      <th>JobTitle</th>\n",
       "      <th>Company</th>\n",
       "    </tr>\n",
       "  </thead>\n",
       "  <tbody>\n",
       "    <tr>\n",
       "      <th>0</th>\n",
       "      <td>Data Scientist</td>\n",
       "      <td>638</td>\n",
       "    </tr>\n",
       "    <tr>\n",
       "      <th>1</th>\n",
       "      <td>Data Analyst</td>\n",
       "      <td>198</td>\n",
       "    </tr>\n",
       "    <tr>\n",
       "      <th>2</th>\n",
       "      <td>Software Engineer</td>\n",
       "      <td>191</td>\n",
       "    </tr>\n",
       "    <tr>\n",
       "      <th>3</th>\n",
       "      <td>Data Engineer</td>\n",
       "      <td>163</td>\n",
       "    </tr>\n",
       "    <tr>\n",
       "      <th>4</th>\n",
       "      <td>Business Analyst</td>\n",
       "      <td>103</td>\n",
       "    </tr>\n",
       "    <tr>\n",
       "      <th>5</th>\n",
       "      <td>Big Data Engineer</td>\n",
       "      <td>77</td>\n",
       "    </tr>\n",
       "    <tr>\n",
       "      <th>6</th>\n",
       "      <td>Senior Data Scientist</td>\n",
       "      <td>75</td>\n",
       "    </tr>\n",
       "    <tr>\n",
       "      <th>7</th>\n",
       "      <td>Senior Engineer - DevOps</td>\n",
       "      <td>58</td>\n",
       "    </tr>\n",
       "    <tr>\n",
       "      <th>8</th>\n",
       "      <td>Director, Data &amp; Analytics</td>\n",
       "      <td>56</td>\n",
       "    </tr>\n",
       "    <tr>\n",
       "      <th>9</th>\n",
       "      <td>Project Manager</td>\n",
       "      <td>54</td>\n",
       "    </tr>\n",
       "  </tbody>\n",
       "</table>\n",
       "</div>"
      ],
      "text/plain": [
       "                     JobTitle  Company\n",
       "0              Data Scientist      638\n",
       "1                Data Analyst      198\n",
       "2           Software Engineer      191\n",
       "3               Data Engineer      163\n",
       "4            Business Analyst      103\n",
       "5           Big Data Engineer       77\n",
       "6       Senior Data Scientist       75\n",
       "7    Senior Engineer - DevOps       58\n",
       "8  Director, Data & Analytics       56\n",
       "9             Project Manager       54"
      ]
     },
     "execution_count": 15,
     "metadata": {},
     "output_type": "execute_result"
    }
   ],
   "source": [
    "most_common_jobs "
   ]
  },
  {
   "cell_type": "markdown",
   "metadata": {},
   "source": [
    "And here is the \"top 10 most wantes data science related jobs\" data visualized in bar plot form"
   ]
  },
  {
   "cell_type": "code",
   "execution_count": 16,
   "metadata": {},
   "outputs": [
    {
     "data": {
      "text/plain": [
       "Text(0, 0.5, 'Job Titles')"
      ]
     },
     "execution_count": 16,
     "metadata": {},
     "output_type": "execute_result"
    },
    {
     "data": {
      "image/png": "[encoded data removed]",
      "text/plain": [
       "<Figure size 1008x504 with 1 Axes>"
      ]
     },
     "metadata": {
      "needs_background": "light"
     },
     "output_type": "display_data"
    }
   ],
   "source": [
    "fig, bars=plt.subplots(figsize=(14,7))\n",
    "bars = sns.barplot(data=most_common_jobs, x=\"Company\", y=\"JobTitle\", orient='h')\n",
    "bars.set_title(\"Top 10 Most Wanted Data Science Related Jobs\", fontsize=20)\n",
    "bars.set_xlabel(\"Number of Jobs\", fontsize=15, color=\"red\")\n",
    "bars.set_ylabel(\"Job Titles\", fontsize=15, color=\"red\")"
   ]
  },
  {
   "cell_type": "markdown",
   "metadata": {},
   "source": [
    "### Top 10 Companies with The Most Job Offers\n",
    "\n",
    "We'll group the data by the 'Company' column, and count how many jobs they're offering. The result will be assigned into a new dataframe as well."
   ]
  },
  {
   "cell_type": "code",
   "execution_count": 17,
   "metadata": {},
   "outputs": [],
   "source": [
    "companies_with_more_jobs = data_science_filtered.groupby([\"Company\"]).JobTitle.count()\n",
    "companies_with_more_jobs = companies_with_more_jobs.reset_index(name=\"JobTitle\")\n",
    "companies_with_more_jobs = companies_with_more_jobs.sort_values([\"JobTitle\"], ascending=False)\n",
    "companies_with_more_jobs = companies_with_more_jobs.head(10)"
   ]
  },
  {
   "cell_type": "code",
   "execution_count": 18,
   "metadata": {},
   "outputs": [],
   "source": [
    "companies_with_more_jobs = companies_with_more_jobs.reset_index()\n",
    "companies_with_more_jobs = companies_with_more_jobs.drop(['index'], axis=1)"
   ]
  },
  {
   "cell_type": "markdown",
   "metadata": {},
   "source": [
    "Here is the \"Top 10 Companies with The Most Job Offers\" in dataframe form."
   ]
  },
  {
   "cell_type": "code",
   "execution_count": 19,
   "metadata": {},
   "outputs": [
    {
     "data": {
      "text/html": [
       "<div>\n",
       "<style scoped>\n",
       "    .dataframe tbody tr th:only-of-type {\n",
       "        vertical-align: middle;\n",
       "    }\n",
       "\n",
       "    .dataframe tbody tr th {\n",
       "        vertical-align: top;\n",
       "    }\n",
       "\n",
       "    .dataframe thead th {\n",
       "        text-align: right;\n",
       "    }\n",
       "</style>\n",
       "<table border=\"1\" class=\"dataframe\">\n",
       "  <thead>\n",
       "    <tr style=\"text-align: right;\">\n",
       "      <th></th>\n",
       "      <th>Company</th>\n",
       "      <th>JobTitle</th>\n",
       "    </tr>\n",
       "  </thead>\n",
       "  <tbody>\n",
       "    <tr>\n",
       "      <th>0</th>\n",
       "      <td>Google</td>\n",
       "      <td>674</td>\n",
       "    </tr>\n",
       "    <tr>\n",
       "      <th>1</th>\n",
       "      <td>Amazon.com</td>\n",
       "      <td>527</td>\n",
       "    </tr>\n",
       "    <tr>\n",
       "      <th>2</th>\n",
       "      <td>Accenture</td>\n",
       "      <td>406</td>\n",
       "    </tr>\n",
       "    <tr>\n",
       "      <th>3</th>\n",
       "      <td>IBM</td>\n",
       "      <td>406</td>\n",
       "    </tr>\n",
       "    <tr>\n",
       "      <th>4</th>\n",
       "      <td>Microsoft</td>\n",
       "      <td>385</td>\n",
       "    </tr>\n",
       "    <tr>\n",
       "      <th>5</th>\n",
       "      <td>Oracle</td>\n",
       "      <td>352</td>\n",
       "    </tr>\n",
       "    <tr>\n",
       "      <th>6</th>\n",
       "      <td>Qatar Computing Research Institute</td>\n",
       "      <td>343</td>\n",
       "    </tr>\n",
       "    <tr>\n",
       "      <th>7</th>\n",
       "      <td>Intel</td>\n",
       "      <td>292</td>\n",
       "    </tr>\n",
       "    <tr>\n",
       "      <th>8</th>\n",
       "      <td>PwC</td>\n",
       "      <td>217</td>\n",
       "    </tr>\n",
       "    <tr>\n",
       "      <th>9</th>\n",
       "      <td>McKinsey &amp; Company</td>\n",
       "      <td>196</td>\n",
       "    </tr>\n",
       "  </tbody>\n",
       "</table>\n",
       "</div>"
      ],
      "text/plain": [
       "                              Company  JobTitle\n",
       "0                              Google       674\n",
       "1                          Amazon.com       527\n",
       "2                           Accenture       406\n",
       "3                                 IBM       406\n",
       "4                           Microsoft       385\n",
       "5                              Oracle       352\n",
       "6  Qatar Computing Research Institute       343\n",
       "7                               Intel       292\n",
       "8                                 PwC       217\n",
       "9                  McKinsey & Company       196"
      ]
     },
     "execution_count": 19,
     "metadata": {},
     "output_type": "execute_result"
    }
   ],
   "source": [
    "companies_with_more_jobs"
   ]
  },
  {
   "cell_type": "markdown",
   "metadata": {},
   "source": [
    "And here is the visualization in bar plot form"
   ]
  },
  {
   "cell_type": "code",
   "execution_count": 20,
   "metadata": {},
   "outputs": [
    {
     "data": {
      "text/plain": [
       "Text(0, 0.5, 'Companies')"
      ]
     },
     "execution_count": 20,
     "metadata": {},
     "output_type": "execute_result"
    },
    {
     "data": {
      "image/png": "[encoded data removed]",
      "text/plain": [
       "<Figure size 1008x504 with 1 Axes>"
      ]
     },
     "metadata": {
      "needs_background": "light"
     },
     "output_type": "display_data"
    }
   ],
   "source": [
    "fig, bars=plt.subplots(figsize=(14,7))\n",
    "bars = sns.barplot(data=companies_with_more_jobs, x=\"JobTitle\", y=\"Company\", orient='h')\n",
    "bars.set_title(\"Top 10 Companies with The Most Job Offers\", fontsize=20)\n",
    "bars.set_xlabel(\"Number of Jobs\", fontsize=15, color=\"red\")\n",
    "bars.set_ylabel(\"Companies\", fontsize=15, color=\"red\")"
   ]
  },
  {
   "cell_type": "markdown",
   "metadata": {},
   "source": [
    "### Top 10 Cities with The Most Job Offers\n",
    "\n",
    "We'll group the data by the 'Location' column, and count how many jobs are offered in that location. The result will be assigned into a new dataframe as well."
   ]
  },
  {
   "cell_type": "code",
   "execution_count": 21,
   "metadata": {},
   "outputs": [],
   "source": [
    "cities_with_more_jobs = data_science_filtered.groupby([\"Location\"]).JobTitle.count()\n",
    "cities_with_more_jobs = cities_with_more_jobs.reset_index(name=\"JobTitle\")\n",
    "cities_with_more_jobs = cities_with_more_jobs.sort_values([\"JobTitle\"], ascending=False)\n",
    "cities_with_more_jobs = cities_with_more_jobs.head(10)"
   ]
  },
  {
   "cell_type": "code",
   "execution_count": 22,
   "metadata": {},
   "outputs": [],
   "source": [
    "cities_with_more_jobs = cities_with_more_jobs.reset_index()\n",
    "cities_with_more_jobs = cities_with_more_jobs.drop(['index'], axis=1)"
   ]
  },
  {
   "cell_type": "markdown",
   "metadata": {},
   "source": [
    "This is the result in dataframe form"
   ]
  },
  {
   "cell_type": "code",
   "execution_count": 23,
   "metadata": {},
   "outputs": [
    {
     "data": {
      "text/html": [
       "<div>\n",
       "<style scoped>\n",
       "    .dataframe tbody tr th:only-of-type {\n",
       "        vertical-align: middle;\n",
       "    }\n",
       "\n",
       "    .dataframe tbody tr th {\n",
       "        vertical-align: top;\n",
       "    }\n",
       "\n",
       "    .dataframe thead th {\n",
       "        text-align: right;\n",
       "    }\n",
       "</style>\n",
       "<table border=\"1\" class=\"dataframe\">\n",
       "  <thead>\n",
       "    <tr style=\"text-align: right;\">\n",
       "      <th></th>\n",
       "      <th>Location</th>\n",
       "      <th>JobTitle</th>\n",
       "    </tr>\n",
       "  </thead>\n",
       "  <tbody>\n",
       "    <tr>\n",
       "      <th>0</th>\n",
       "      <td>London</td>\n",
       "      <td>618</td>\n",
       "    </tr>\n",
       "    <tr>\n",
       "      <th>1</th>\n",
       "      <td>Singapore</td>\n",
       "      <td>539</td>\n",
       "    </tr>\n",
       "    <tr>\n",
       "      <th>2</th>\n",
       "      <td>Luxembourg</td>\n",
       "      <td>457</td>\n",
       "    </tr>\n",
       "    <tr>\n",
       "      <th>3</th>\n",
       "      <td>Dublin</td>\n",
       "      <td>454</td>\n",
       "    </tr>\n",
       "    <tr>\n",
       "      <th>4</th>\n",
       "      <td>Doha</td>\n",
       "      <td>446</td>\n",
       "    </tr>\n",
       "    <tr>\n",
       "      <th>5</th>\n",
       "      <td>กรุงเทพมหานคร</td>\n",
       "      <td>402</td>\n",
       "    </tr>\n",
       "    <tr>\n",
       "      <th>6</th>\n",
       "      <td>Karachi</td>\n",
       "      <td>386</td>\n",
       "    </tr>\n",
       "    <tr>\n",
       "      <th>7</th>\n",
       "      <td>Москва</td>\n",
       "      <td>370</td>\n",
       "    </tr>\n",
       "    <tr>\n",
       "      <th>8</th>\n",
       "      <td>Zürich, ZH</td>\n",
       "      <td>299</td>\n",
       "    </tr>\n",
       "    <tr>\n",
       "      <th>9</th>\n",
       "      <td>Hong Kong</td>\n",
       "      <td>290</td>\n",
       "    </tr>\n",
       "  </tbody>\n",
       "</table>\n",
       "</div>"
      ],
      "text/plain": [
       "        Location  JobTitle\n",
       "0         London       618\n",
       "1      Singapore       539\n",
       "2     Luxembourg       457\n",
       "3         Dublin       454\n",
       "4           Doha       446\n",
       "5  กรุงเทพมหานคร       402\n",
       "6        Karachi       386\n",
       "7         Москва       370\n",
       "8     Zürich, ZH       299\n",
       "9      Hong Kong       290"
      ]
     },
     "execution_count": 23,
     "metadata": {},
     "output_type": "execute_result"
    }
   ],
   "source": [
    "cities_with_more_jobs"
   ]
  },
  {
   "cell_type": "markdown",
   "metadata": {},
   "source": [
    "This is the visualization in bar plot form"
   ]
  },
  {
   "cell_type": "code",
   "execution_count": 24,
   "metadata": {},
   "outputs": [
    {
     "data": {
      "text/plain": [
       "Text(0, 0.5, 'Number of Jobs')"
      ]
     },
     "execution_count": 24,
     "metadata": {},
     "output_type": "execute_result"
    },
    {
     "data": {
      "image/png": "[encoded data removed]",
      "text/plain": [
       "<Figure size 1008x504 with 1 Axes>"
      ]
     },
     "metadata": {
      "needs_background": "light"
     },
     "output_type": "display_data"
    }
   ],
   "source": [
    "fig, bars=plt.subplots(figsize=(14,7))\n",
    "bars = sns.barplot(data=cities_with_more_jobs, x=\"Location\", y=\"JobTitle\")\n",
    "bars.set_title(\"Top 10 Cities with The Most Job Offers\", fontsize=20)\n",
    "bars.set_xlabel(\"Cities\", fontsize=15, color=\"red\")\n",
    "bars.set_ylabel(\"Number of Jobs\", fontsize=15, color=\"red\")"
   ]
  },
  {
   "cell_type": "markdown",
   "metadata": {},
   "source": [
    "### Top 10 Cities with The Most Data Scientist Job Offers\n",
    "\n",
    "As we've seen in the \"Top 10 Most Wanted Data Science Related Jobs\" data, the most wanted job by companies is data scientist. We'll be looking at cities with the most data scientist job offers so those who are interested to apply for data scientist job can have general knowledge of the locations with the most opportunities available."
   ]
  },
  {
   "cell_type": "markdown",
   "metadata": {},
   "source": [
    "We'll filter the \"JobTitle\" column so it will only look for \"Data Scientist\" in that column. Then, we'll create a new dataframe consist of just the \"JobTitle\" that have \"Data Scientist\" in it, and the location of those jobs.  "
   ]
  },
  {
   "cell_type": "code",
   "execution_count": 25,
   "metadata": {},
   "outputs": [],
   "source": [
    "city_with_more_ds = data_science_filtered.loc[data_science_filtered['JobTitle'] == \"Data Scientist\"][['JobTitle', 'Location']]"
   ]
  },
  {
   "cell_type": "markdown",
   "metadata": {},
   "source": [
    "We'll group the data in our newly created dataframe by the 'Location' column, and count how many 'Data Scientist' job title are in those locations."
   ]
  },
  {
   "cell_type": "code",
   "execution_count": 26,
   "metadata": {},
   "outputs": [],
   "source": [
    "cities_with_more_ds = city_with_more_ds.groupby(['Location']).JobTitle.count()\n",
    "cities_with_more_ds = cities_with_more_ds.reset_index(name=\"JobTitle\")\n",
    "cities_with_more_ds = cities_with_more_ds.sort_values([\"JobTitle\"], ascending=False)\n",
    "cities_with_more_ds = cities_with_more_ds.head(10)"
   ]
  },
  {
   "cell_type": "code",
   "execution_count": 27,
   "metadata": {},
   "outputs": [],
   "source": [
    "cities_with_more_ds = cities_with_more_ds.reset_index()\n",
    "cities_with_more_ds = cities_with_more_ds.drop(['index'], axis=1)"
   ]
  },
  {
   "cell_type": "markdown",
   "metadata": {},
   "source": [
    "And here is the result in dataframe form"
   ]
  },
  {
   "cell_type": "code",
   "execution_count": 28,
   "metadata": {},
   "outputs": [
    {
     "data": {
      "text/html": [
       "<div>\n",
       "<style scoped>\n",
       "    .dataframe tbody tr th:only-of-type {\n",
       "        vertical-align: middle;\n",
       "    }\n",
       "\n",
       "    .dataframe tbody tr th {\n",
       "        vertical-align: top;\n",
       "    }\n",
       "\n",
       "    .dataframe thead th {\n",
       "        text-align: right;\n",
       "    }\n",
       "</style>\n",
       "<table border=\"1\" class=\"dataframe\">\n",
       "  <thead>\n",
       "    <tr style=\"text-align: right;\">\n",
       "      <th></th>\n",
       "      <th>Location</th>\n",
       "      <th>JobTitle</th>\n",
       "    </tr>\n",
       "  </thead>\n",
       "  <tbody>\n",
       "    <tr>\n",
       "      <th>0</th>\n",
       "      <td>London</td>\n",
       "      <td>105</td>\n",
       "    </tr>\n",
       "    <tr>\n",
       "      <th>1</th>\n",
       "      <td>Bengaluru, Karnataka</td>\n",
       "      <td>46</td>\n",
       "    </tr>\n",
       "    <tr>\n",
       "      <th>2</th>\n",
       "      <td>Singapore</td>\n",
       "      <td>35</td>\n",
       "    </tr>\n",
       "    <tr>\n",
       "      <th>3</th>\n",
       "      <td>Москва</td>\n",
       "      <td>29</td>\n",
       "    </tr>\n",
       "    <tr>\n",
       "      <th>4</th>\n",
       "      <td>Hyderabad, Telangana</td>\n",
       "      <td>17</td>\n",
       "    </tr>\n",
       "    <tr>\n",
       "      <th>5</th>\n",
       "      <td>Toronto, ON</td>\n",
       "      <td>16</td>\n",
       "    </tr>\n",
       "    <tr>\n",
       "      <th>6</th>\n",
       "      <td>Western Cape</td>\n",
       "      <td>14</td>\n",
       "    </tr>\n",
       "    <tr>\n",
       "      <th>7</th>\n",
       "      <td>Vancouver, BC</td>\n",
       "      <td>14</td>\n",
       "    </tr>\n",
       "    <tr>\n",
       "      <th>8</th>\n",
       "      <td>Dubai</td>\n",
       "      <td>13</td>\n",
       "    </tr>\n",
       "    <tr>\n",
       "      <th>9</th>\n",
       "      <td>Dublin</td>\n",
       "      <td>12</td>\n",
       "    </tr>\n",
       "  </tbody>\n",
       "</table>\n",
       "</div>"
      ],
      "text/plain": [
       "               Location  JobTitle\n",
       "0                London       105\n",
       "1  Bengaluru, Karnataka        46\n",
       "2             Singapore        35\n",
       "3                Москва        29\n",
       "4  Hyderabad, Telangana        17\n",
       "5           Toronto, ON        16\n",
       "6          Western Cape        14\n",
       "7         Vancouver, BC        14\n",
       "8                 Dubai        13\n",
       "9                Dublin        12"
      ]
     },
     "execution_count": 28,
     "metadata": {},
     "output_type": "execute_result"
    }
   ],
   "source": [
    "cities_with_more_ds"
   ]
  },
  {
   "cell_type": "markdown",
   "metadata": {},
   "source": [
    "This is the result visualized in bar plot form"
   ]
  },
  {
   "cell_type": "code",
   "execution_count": 29,
   "metadata": {},
   "outputs": [
    {
     "data": {
      "text/plain": [
       "Text(0, 0.5, 'Cities')"
      ]
     },
     "execution_count": 29,
     "metadata": {},
     "output_type": "execute_result"
    },
    {
     "data": {
      "image/png": "[encoded data removed]",
      "text/plain": [
       "<Figure size 1008x504 with 1 Axes>"
      ]
     },
     "metadata": {
      "needs_background": "light"
     },
     "output_type": "display_data"
    }
   ],
   "source": [
    "fig, bars=plt.subplots(figsize=(14,7))\n",
    "bars = sns.barplot(data=cities_with_more_ds, x=\"JobTitle\", y=\"Location\", orient='h')\n",
    "bars.set_title(\" Top 10 Cities with The Most Data Scientist Job Offers\", fontsize=20)\n",
    "bars.set_xlabel(\"Number of Jobs\", fontsize=15, color=\"red\")\n",
    "bars.set_ylabel(\"Cities\", fontsize=15, color=\"red\")"
   ]
  },
  {
   "cell_type": "markdown",
   "metadata": {},
   "source": [
    "### Top 10 Google's Most Wanted Jobs\n",
    "\n",
    "Google ranked number 1 in the \"Top 10 Companies with The Most Job Offers\". We'll take a look at 10 jobs that's currently wanted the most by Google so people who are interested to work at Google can have general understanding of which role to apply."
   ]
  },
  {
   "cell_type": "markdown",
   "metadata": {},
   "source": [
    "We'll filter the 'Company' column so it will only look for \"Google\" in that column. Then, we'll create a new dataframe consist of just the 'Company' that have \"Google\" in it, and the 'JobTitle' offered by them."
   ]
  },
  {
   "cell_type": "code",
   "execution_count": 30,
   "metadata": {},
   "outputs": [],
   "source": [
    "job_in_google = data_science_filtered.loc[data_science_filtered['Company'] == \"Google\"][['JobTitle', 'Company']]"
   ]
  },
  {
   "cell_type": "markdown",
   "metadata": {},
   "source": [
    "We'll group the data by 'JobTitle' column, and count how many of those jobs are offered by Google."
   ]
  },
  {
   "cell_type": "code",
   "execution_count": 31,
   "metadata": {},
   "outputs": [],
   "source": [
    "jobs_in_google = job_in_google.groupby(['JobTitle']).Company.count()\n",
    "jobs_in_google = jobs_in_google.reset_index(name=\"Company\")\n",
    "jobs_in_google = jobs_in_google.sort_values([\"Company\"], ascending=False)\n",
    "jobs_in_google = jobs_in_google.head(10)"
   ]
  },
  {
   "cell_type": "code",
   "execution_count": 32,
   "metadata": {},
   "outputs": [],
   "source": [
    "jobs_in_google = jobs_in_google.reset_index()\n",
    "jobs_in_google = jobs_in_google.drop(['index'], axis=1)"
   ]
  },
  {
   "cell_type": "markdown",
   "metadata": {},
   "source": [
    "This is the result in dataframe form"
   ]
  },
  {
   "cell_type": "code",
   "execution_count": 33,
   "metadata": {},
   "outputs": [
    {
     "data": {
      "text/html": [
       "<div>\n",
       "<style scoped>\n",
       "    .dataframe tbody tr th:only-of-type {\n",
       "        vertical-align: middle;\n",
       "    }\n",
       "\n",
       "    .dataframe tbody tr th {\n",
       "        vertical-align: top;\n",
       "    }\n",
       "\n",
       "    .dataframe thead th {\n",
       "        text-align: right;\n",
       "    }\n",
       "</style>\n",
       "<table border=\"1\" class=\"dataframe\">\n",
       "  <thead>\n",
       "    <tr style=\"text-align: right;\">\n",
       "      <th></th>\n",
       "      <th>JobTitle</th>\n",
       "      <th>Company</th>\n",
       "    </tr>\n",
       "  </thead>\n",
       "  <tbody>\n",
       "    <tr>\n",
       "      <th>0</th>\n",
       "      <td>Software Engineering/Site Reliability Engineer...</td>\n",
       "      <td>33</td>\n",
       "    </tr>\n",
       "    <tr>\n",
       "      <th>1</th>\n",
       "      <td>Software Engineer (English)</td>\n",
       "      <td>29</td>\n",
       "    </tr>\n",
       "    <tr>\n",
       "      <th>2</th>\n",
       "      <td>Engineering Manager, Android Media</td>\n",
       "      <td>28</td>\n",
       "    </tr>\n",
       "    <tr>\n",
       "      <th>3</th>\n",
       "      <td>Software Engineer, Android OS</td>\n",
       "      <td>28</td>\n",
       "    </tr>\n",
       "    <tr>\n",
       "      <th>4</th>\n",
       "      <td>Software Engineering Intern, PhD 2018</td>\n",
       "      <td>26</td>\n",
       "    </tr>\n",
       "    <tr>\n",
       "      <th>5</th>\n",
       "      <td>Software Engineer</td>\n",
       "      <td>19</td>\n",
       "    </tr>\n",
       "    <tr>\n",
       "      <th>6</th>\n",
       "      <td>Summer Trainee Engineering Program, STEP 2018</td>\n",
       "      <td>18</td>\n",
       "    </tr>\n",
       "    <tr>\n",
       "      <th>7</th>\n",
       "      <td>High-level Synthesis Design Engineer, Consumer...</td>\n",
       "      <td>16</td>\n",
       "    </tr>\n",
       "    <tr>\n",
       "      <th>8</th>\n",
       "      <td>iOS Software Engineer, Mobile Applications</td>\n",
       "      <td>15</td>\n",
       "    </tr>\n",
       "    <tr>\n",
       "      <th>9</th>\n",
       "      <td>Full Stack Software Engineer</td>\n",
       "      <td>15</td>\n",
       "    </tr>\n",
       "  </tbody>\n",
       "</table>\n",
       "</div>"
      ],
      "text/plain": [
       "                                            JobTitle  Company\n",
       "0  Software Engineering/Site Reliability Engineer...       33\n",
       "1                        Software Engineer (English)       29\n",
       "2                 Engineering Manager, Android Media       28\n",
       "3                      Software Engineer, Android OS       28\n",
       "4              Software Engineering Intern, PhD 2018       26\n",
       "5                                  Software Engineer       19\n",
       "6      Summer Trainee Engineering Program, STEP 2018       18\n",
       "7  High-level Synthesis Design Engineer, Consumer...       16\n",
       "8         iOS Software Engineer, Mobile Applications       15\n",
       "9                       Full Stack Software Engineer       15"
      ]
     },
     "execution_count": 33,
     "metadata": {},
     "output_type": "execute_result"
    }
   ],
   "source": [
    "jobs_in_google"
   ]
  },
  {
   "cell_type": "markdown",
   "metadata": {},
   "source": [
    "This is the result visualized in barplot form"
   ]
  },
  {
   "cell_type": "code",
   "execution_count": 34,
   "metadata": {},
   "outputs": [
    {
     "data": {
      "text/plain": [
       "Text(0, 0.5, 'Job Title')"
      ]
     },
     "execution_count": 34,
     "metadata": {},
     "output_type": "execute_result"
    },
    {
     "data": {
      "image/png": "[encoded data removed]",
      "text/plain": [
       "<Figure size 1008x504 with 1 Axes>"
      ]
     },
     "metadata": {
      "needs_background": "light"
     },
     "output_type": "display_data"
    }
   ],
   "source": [
    "fig, bars=plt.subplots(figsize=(14,7))\n",
    "bars = sns.barplot(data=jobs_in_google, x=\"Company\", y=\"JobTitle\", orient='h')\n",
    "bars.set_title(\" Top 10 Google's Most Wanted Jobs\", fontsize=20)\n",
    "bars.set_xlabel(\"Number of Jobs\", fontsize=15, color=\"red\")\n",
    "bars.set_ylabel(\"Job Title\", fontsize=15, color=\"red\")"
   ]
  },
  {
   "cell_type": "markdown",
   "metadata": {},
   "source": [
    "## Asking and Answering Questions\n",
    "\n",
    "In this section we'll ask some interesting questions about our dataset and find the answer by computing the results using Numpy / Pandas and also by plotting graphs using Matplotlib/Seaborn\n",
    "\n"
   ]
  },
  {
   "cell_type": "markdown",
   "metadata": {},
   "source": [
    "#### How many companies in total that are looking for data science related jobs?\n",
    "\n",
    "With this result, we can determine whether working in the data science industry is a promising prospect or not."
   ]
  },
  {
   "cell_type": "code",
   "execution_count": 35,
   "metadata": {},
   "outputs": [],
   "source": [
    "total_companies = data_science_filtered[\"Company\"].nunique()"
   ]
  },
  {
   "cell_type": "code",
   "execution_count": 36,
   "metadata": {},
   "outputs": [
    {
     "name": "stdout",
     "output_type": "stream",
     "text": [
      "Total number of companies offering data science jobs: 2951\n"
     ]
    }
   ],
   "source": [
    "print(\"Total number of companies offering data science jobs:\", total_companies)"
   ]
  },
  {
   "cell_type": "markdown",
   "metadata": {},
   "source": [
    "#### What is the percentage ratio between job offers from the \"top 10 companies with the most job offers\" and other companies?\n",
    "\n",
    "We can see whether the data science job market is dominated by the \"top 10 companies with the most job offer\" or it's an open market for other companies as well."
   ]
  },
  {
   "cell_type": "markdown",
   "metadata": {},
   "source": [
    "With the \"top 10 companies with the most job offer\" data, we know which companies are in that top 10, and we can put their names in a list. Meanwhile, we'll also create a new dataframe consist of only job titles and companies because those two will be our main focus."
   ]
  },
  {
   "cell_type": "code",
   "execution_count": 80,
   "metadata": {},
   "outputs": [],
   "source": [
    "top10 = ['Google', 'Amazon.com', 'Accenture', 'IBM', 'Microsoft', 'Oracle', 'Qatar Computing Research Institute', 'Intel', \n",
    "         'PwC', 'McKinsey & Company']\n",
    "\n",
    "job_ratio = data_science_filtered[['JobTitle', 'Company']]"
   ]
  },
  {
   "cell_type": "markdown",
   "metadata": {},
   "source": [
    "We'll create a function that will check the 'company' column, and will return \"Top 10 Companies\" if the data in the column matched with one of the data in our list, and will return \"Other Companies\" if the data in the column doesn't matched with the data in our list"
   ]
  },
  {
   "cell_type": "code",
   "execution_count": 81,
   "metadata": {},
   "outputs": [],
   "source": [
    "def find (x):\n",
    "    if x in top10:\n",
    "        return \"Top 10 Companies\"\n",
    "    else:\n",
    "        return \"Other Companies\""
   ]
  },
  {
   "cell_type": "markdown",
   "metadata": {},
   "source": [
    "We'll create a new column to contain the result from our function. The \"apply\" is used to apply the function that we've made before into all of the data inside a certain column. "
   ]
  },
  {
   "cell_type": "code",
   "execution_count": 82,
   "metadata": {},
   "outputs": [],
   "source": [
    "job_ratio['Company_grouped'] = job_ratio['Company'].apply(find)"
   ]
  },
  {
   "cell_type": "markdown",
   "metadata": {},
   "source": [
    "We'll group the data by 'Company_grouped' column, and count how many jobs are offered by them."
   ]
  },
  {
   "cell_type": "code",
   "execution_count": 83,
   "metadata": {},
   "outputs": [],
   "source": [
    "jobs_ratio = job_ratio.groupby(['Company_grouped']).JobTitle.count()\n",
    "jobs_ratio = jobs_ratio.reset_index(name=\"JobTitle\")"
   ]
  },
  {
   "cell_type": "markdown",
   "metadata": {},
   "source": [
    "This is the result of how many jobs are offered by the \"top 10 companies\" and the others"
   ]
  },
  {
   "cell_type": "code",
   "execution_count": 84,
   "metadata": {},
   "outputs": [
    {
     "data": {
      "text/html": [
       "<div>\n",
       "<style scoped>\n",
       "    .dataframe tbody tr th:only-of-type {\n",
       "        vertical-align: middle;\n",
       "    }\n",
       "\n",
       "    .dataframe tbody tr th {\n",
       "        vertical-align: top;\n",
       "    }\n",
       "\n",
       "    .dataframe thead th {\n",
       "        text-align: right;\n",
       "    }\n",
       "</style>\n",
       "<table border=\"1\" class=\"dataframe\">\n",
       "  <thead>\n",
       "    <tr style=\"text-align: right;\">\n",
       "      <th></th>\n",
       "      <th>Company_grouped</th>\n",
       "      <th>JobTitle</th>\n",
       "    </tr>\n",
       "  </thead>\n",
       "  <tbody>\n",
       "    <tr>\n",
       "      <th>0</th>\n",
       "      <td>Other Companies</td>\n",
       "      <td>19661</td>\n",
       "    </tr>\n",
       "    <tr>\n",
       "      <th>1</th>\n",
       "      <td>Top 10 Companies</td>\n",
       "      <td>3798</td>\n",
       "    </tr>\n",
       "  </tbody>\n",
       "</table>\n",
       "</div>"
      ],
      "text/plain": [
       "    Company_grouped  JobTitle\n",
       "0   Other Companies     19661\n",
       "1  Top 10 Companies      3798"
      ]
     },
     "execution_count": 84,
     "metadata": {},
     "output_type": "execute_result"
    }
   ],
   "source": [
    "jobs_ratio"
   ]
  },
  {
   "cell_type": "markdown",
   "metadata": {},
   "source": [
    "This is the percentage ratio of the result, visualized in pie chart form."
   ]
  },
  {
   "cell_type": "code",
   "execution_count": 85,
   "metadata": {},
   "outputs": [
    {
     "data": {
      "text/plain": [
       "<AxesSubplot:title={'center':'Job Offers Percentage Ratio'}, ylabel='Percentage Ratio'>"
      ]
     },
     "execution_count": 85,
     "metadata": {},
     "output_type": "execute_result"
    },
    {
     "data": {
      "image/png": "[encoded data removed]",
      "text/plain": [
       "<Figure size 1008x432 with 1 Axes>"
      ]
     },
     "metadata": {},
     "output_type": "display_data"
    }
   ],
   "source": [
    "jobs_ratio['JobTitle'].rename({0: 'Others', 1: 'Top 10 Companies'}).plot(kind='pie', figsize=(14,6), title='Job Offers Percentage Ratio', \n",
    "                                                                           ylabel='Percentage Ratio', autopct='%1.1f%%')"
   ]
  },
  {
   "cell_type": "markdown",
   "metadata": {},
   "source": [
    "#### How many types of data science related jobs offered in this dataset?\n",
    "\n",
    "With this result, we'll be able to know how diverse the jobs are in this industry."
   ]
  },
  {
   "cell_type": "code",
   "execution_count": 102,
   "metadata": {},
   "outputs": [],
   "source": [
    "total_jobs = data_science_filtered[\"JobTitle\"].nunique()"
   ]
  },
  {
   "cell_type": "code",
   "execution_count": 103,
   "metadata": {},
   "outputs": [
    {
     "name": "stdout",
     "output_type": "stream",
     "text": [
      "Total number of data science job types in all companies: 10060\n"
     ]
    }
   ],
   "source": [
    "print(\"Total number of data science job types in all companies:\", total_jobs)"
   ]
  },
  {
   "cell_type": "markdown",
   "metadata": {},
   "source": [
    "#### What is the percentage ratio between data scientist job and other jobs?\n",
    "\n",
    "From the \"top 10 most wanted data science related jobs\" list, we can see that the data scientist role is leading, and by quite a fine margin as well compared to other jobs in that list. With this result, we'll know whether the data scientist role is also dominating the whole data science related jobs market as well."
   ]
  },
  {
   "cell_type": "markdown",
   "metadata": {},
   "source": [
    "We'll create a new dataframe consist of only job titles and companies because those two will be our main focus."
   ]
  },
  {
   "cell_type": "code",
   "execution_count": 72,
   "metadata": {},
   "outputs": [],
   "source": [
    "ds_ratio = data_science_filtered[['JobTitle', 'Company']]"
   ]
  },
  {
   "cell_type": "markdown",
   "metadata": {},
   "source": [
    "We'll create a function that will check the 'JobTitle' column, and will return \"Data Scientist\" if the data in the column is \"Data Scientist\", and will return \"Other Jobs\" if the data in the column isn't \"Data Scientist\"."
   ]
  },
  {
   "cell_type": "code",
   "execution_count": 73,
   "metadata": {},
   "outputs": [],
   "source": [
    "def findjob (x):\n",
    "    if x == \"Data Scientist\":\n",
    "        return x\n",
    "    else:\n",
    "        return \"Other Jobs\""
   ]
  },
  {
   "cell_type": "markdown",
   "metadata": {},
   "source": [
    "We'll create a new column to contain the result from our function. The \"apply\" is used to apply the function that we've made before into all of the data inside a certain column."
   ]
  },
  {
   "cell_type": "code",
   "execution_count": 74,
   "metadata": {},
   "outputs": [],
   "source": [
    "ds_ratio['ds_grouped'] = ds_ratio['JobTitle'].apply(findjob)"
   ]
  },
  {
   "cell_type": "markdown",
   "metadata": {},
   "source": [
    "We'll group the data by 'ds_grouped' column, and count how many jobs are marked as \"Data Scientist\" and \"Other Jobs\"."
   ]
  },
  {
   "cell_type": "code",
   "execution_count": 77,
   "metadata": {},
   "outputs": [],
   "source": [
    "ds_ratio = ds_ratio.groupby(['ds_grouped']).JobTitle.count()\n",
    "ds_ratio = ds_ratio.reset_index(name=\"JobTitle\")"
   ]
  },
  {
   "cell_type": "markdown",
   "metadata": {},
   "source": [
    "This is the result of how many \"Data Scientist\" jobs wanted by companies compared to others"
   ]
  },
  {
   "cell_type": "code",
   "execution_count": 78,
   "metadata": {},
   "outputs": [
    {
     "data": {
      "text/html": [
       "<div>\n",
       "<style scoped>\n",
       "    .dataframe tbody tr th:only-of-type {\n",
       "        vertical-align: middle;\n",
       "    }\n",
       "\n",
       "    .dataframe tbody tr th {\n",
       "        vertical-align: top;\n",
       "    }\n",
       "\n",
       "    .dataframe thead th {\n",
       "        text-align: right;\n",
       "    }\n",
       "</style>\n",
       "<table border=\"1\" class=\"dataframe\">\n",
       "  <thead>\n",
       "    <tr style=\"text-align: right;\">\n",
       "      <th></th>\n",
       "      <th>ds_grouped</th>\n",
       "      <th>JobTitle</th>\n",
       "    </tr>\n",
       "  </thead>\n",
       "  <tbody>\n",
       "    <tr>\n",
       "      <th>0</th>\n",
       "      <td>Data Scientist</td>\n",
       "      <td>638</td>\n",
       "    </tr>\n",
       "    <tr>\n",
       "      <th>1</th>\n",
       "      <td>Other Jobs</td>\n",
       "      <td>22821</td>\n",
       "    </tr>\n",
       "  </tbody>\n",
       "</table>\n",
       "</div>"
      ],
      "text/plain": [
       "       ds_grouped  JobTitle\n",
       "0  Data Scientist       638\n",
       "1      Other Jobs     22821"
      ]
     },
     "execution_count": 78,
     "metadata": {},
     "output_type": "execute_result"
    }
   ],
   "source": [
    "ds_ratio"
   ]
  },
  {
   "cell_type": "markdown",
   "metadata": {},
   "source": [
    "This is the percentage ratio of the result, visualized in pie chart form."
   ]
  },
  {
   "cell_type": "code",
   "execution_count": 91,
   "metadata": {},
   "outputs": [
    {
     "data": {
      "text/plain": [
       "<AxesSubplot:title={'center':'Data Scientist vs Other Jobs Percentage Ratio'}, ylabel='Percentage Ratio'>"
      ]
     },
     "execution_count": 91,
     "metadata": {},
     "output_type": "execute_result"
    },
    {
     "data": {
      "image/png": "[encoded data removed]",
      "text/plain": [
       "<Figure size 1008x432 with 1 Axes>"
      ]
     },
     "metadata": {},
     "output_type": "display_data"
    }
   ],
   "source": [
    "ds_ratio['JobTitle'].rename({0: 'Data Scientist', 1: 'Others'}).plot(kind='pie', figsize=(14,6), title='Data Scientist vs Other Jobs Percentage Ratio', ylabel = 'Percentage Ratio', \n",
    "                                                                     autopct='%1.1f%%', startangle=60)"
   ]
  },
  {
   "cell_type": "markdown",
   "metadata": {},
   "source": [
    "#### What is the percentage ratio between the \"top 10 most wanted jobs\" and other jobs?\n",
    "\n",
    "We've just seen that data scientist job offers are just a small fraction in the data science jobs market. But what about the \"top 10 most wanted jobs\"?"
   ]
  },
  {
   "cell_type": "markdown",
   "metadata": {},
   "source": [
    "With the \"top 10 most wanted data science related jobs\" data, we know which jobs are in that top 10, and we can put their names in a list. Meanwhile, we'll also create a new dataframe consist of only job titles and companies because those two will be our main focus."
   ]
  },
  {
   "cell_type": "code",
   "execution_count": 92,
   "metadata": {},
   "outputs": [],
   "source": [
    "job10 = ['Data Scientist','Data Analyst','Software Engineer','Data Engineer','Business Analyst','Big Data Engineer',\n",
    "         'Senior Data Scientist','Senior Engineer - DevOps','Director, Data & Analytics','Project Manager']\n",
    "\n",
    "mwjob_ratio = data_science_filtered[['JobTitle', 'Company']]"
   ]
  },
  {
   "cell_type": "markdown",
   "metadata": {},
   "source": [
    "We'll create a function that will check the 'JobTitle' column, and will return \"Top 10 Jobs\" if the data in the column matched with one of the data in our list, and will return \"Other Jobs\" if the data in the column doesn't matched with the data in our list."
   ]
  },
  {
   "cell_type": "code",
   "execution_count": 93,
   "metadata": {},
   "outputs": [],
   "source": [
    "def find2 (x):\n",
    "    if x in job10:\n",
    "        return \"Top 10 Jobs\"\n",
    "    else:\n",
    "        return \"Other Jobs\""
   ]
  },
  {
   "cell_type": "markdown",
   "metadata": {},
   "source": [
    "We'll create a new column to contain the result from our function. The \"apply\" is used to apply the function that we've made before into all of the data inside a certain column."
   ]
  },
  {
   "cell_type": "code",
   "execution_count": 94,
   "metadata": {},
   "outputs": [],
   "source": [
    "mwjob_ratio['Jobs_grouped'] = mwjob_ratio['JobTitle'].apply(find2)"
   ]
  },
  {
   "cell_type": "markdown",
   "metadata": {},
   "source": [
    "We'll group the data by 'Jobs_grouped' column, and count how many jobs are marked as \"Top 10 Jobs\" and \"Other Jobs\"."
   ]
  },
  {
   "cell_type": "code",
   "execution_count": 98,
   "metadata": {},
   "outputs": [],
   "source": [
    "mwjobs_ratio = mwjob_ratio.groupby(['Jobs_grouped']).JobTitle.count()\n",
    "mwjobs_ratio = mwjobs_ratio.reset_index(name=\"JobTitle\")"
   ]
  },
  {
   "cell_type": "markdown",
   "metadata": {},
   "source": [
    "This is the result of how many of the \"top 10 jobs\" wanted by companies compared to others"
   ]
  },
  {
   "cell_type": "code",
   "execution_count": 99,
   "metadata": {},
   "outputs": [
    {
     "data": {
      "text/html": [
       "<div>\n",
       "<style scoped>\n",
       "    .dataframe tbody tr th:only-of-type {\n",
       "        vertical-align: middle;\n",
       "    }\n",
       "\n",
       "    .dataframe tbody tr th {\n",
       "        vertical-align: top;\n",
       "    }\n",
       "\n",
       "    .dataframe thead th {\n",
       "        text-align: right;\n",
       "    }\n",
       "</style>\n",
       "<table border=\"1\" class=\"dataframe\">\n",
       "  <thead>\n",
       "    <tr style=\"text-align: right;\">\n",
       "      <th></th>\n",
       "      <th>Jobs_grouped</th>\n",
       "      <th>JobTitle</th>\n",
       "    </tr>\n",
       "  </thead>\n",
       "  <tbody>\n",
       "    <tr>\n",
       "      <th>0</th>\n",
       "      <td>Other Jobs</td>\n",
       "      <td>21846</td>\n",
       "    </tr>\n",
       "    <tr>\n",
       "      <th>1</th>\n",
       "      <td>Top 10 Jobs</td>\n",
       "      <td>1613</td>\n",
       "    </tr>\n",
       "  </tbody>\n",
       "</table>\n",
       "</div>"
      ],
      "text/plain": [
       "  Jobs_grouped  JobTitle\n",
       "0   Other Jobs     21846\n",
       "1  Top 10 Jobs      1613"
      ]
     },
     "execution_count": 99,
     "metadata": {},
     "output_type": "execute_result"
    }
   ],
   "source": [
    "mwjobs_ratio"
   ]
  },
  {
   "cell_type": "markdown",
   "metadata": {},
   "source": [
    "This is the percentage ratio of the result, visualized in pie chart form."
   ]
  },
  {
   "cell_type": "code",
   "execution_count": 101,
   "metadata": {},
   "outputs": [
    {
     "data": {
      "text/plain": [
       "<AxesSubplot:title={'center':'Most Wanted Jobs Percentage Ratio'}, ylabel='Percentage Ratio'>"
      ]
     },
     "execution_count": 101,
     "metadata": {},
     "output_type": "execute_result"
    },
    {
     "data": {
      "image/png": "[encoded data removed]",
      "text/plain": [
       "<Figure size 1008x432 with 1 Axes>"
      ]
     },
     "metadata": {},
     "output_type": "display_data"
    }
   ],
   "source": [
    "mwjobs_ratio['JobTitle'].rename({0: 'Others', 1: 'Top 10 Jobs'}).plot(kind='pie', figsize=(14,6), title='Most Wanted Jobs Percentage Ratio', \n",
    "                                                                           ylabel='Percentage Ratio', autopct='%1.1f%%', startangle=60)"
   ]
  },
  {
   "cell_type": "markdown",
   "metadata": {},
   "source": [
    "#### How many locations in total that offer data science related jobs?\n",
    "\n",
    "With this result, we can determine whether data science related job offers are centralized in certain locations, or widely scattered across the world."
   ]
  },
  {
   "cell_type": "code",
   "execution_count": 104,
   "metadata": {},
   "outputs": [
    {
     "name": "stdout",
     "output_type": "stream",
     "text": [
      "Total number of cities is: 1601\n"
     ]
    }
   ],
   "source": [
    "number_of_cities = data_science_filtered[\"Location\"].nunique()\n",
    "print(\"Total number of cities is:\", number_of_cities)"
   ]
  },
  {
   "cell_type": "markdown",
   "metadata": {},
   "source": [
    "#### What is the percentage ratio between the \"top 10 cities with the most job offers\" and other cities?\n",
    "From the result above, we know that there are job opportunities in many locations. But, it's still unclear whether the \"top 10 cities with the most job offers\" are also have the most job offers compared to the whole other locations in this dataset or not."
   ]
  },
  {
   "cell_type": "markdown",
   "metadata": {},
   "source": [
    "With the \"top 10 cities with the most job offers\" data, we know which cities are in that top 10, and we can put their names in a list. Meanwhile, we'll also create a new dataframe consist of only job titles and locations because those two will be our main focus."
   ]
  },
  {
   "cell_type": "code",
   "execution_count": 108,
   "metadata": {},
   "outputs": [],
   "source": [
    "loc10 = ['London', 'Singapore', 'Luxembourg', 'Dublin', 'Doha', 'กรุงเทพมหานคร', 'Karachi', 'Москва', 'Zürich, ZH', \n",
    "         'Hong Kong']\n",
    "\n",
    "locjob_ratio = data_science_filtered[['JobTitle', 'Location']]"
   ]
  },
  {
   "cell_type": "markdown",
   "metadata": {},
   "source": [
    "We'll create a function that will check the 'Location' column, and will return \"Top 10 Cities\" if the data in the column matched with one of the data in our list, and will return \"Other Cities\" if the data in the column doesn't matched with the data in our list."
   ]
  },
  {
   "cell_type": "code",
   "execution_count": 109,
   "metadata": {},
   "outputs": [],
   "source": [
    "def find3 (x):\n",
    "    if x in loc10:\n",
    "        return \"Top 10 Cities\"\n",
    "    else:\n",
    "        return \"Other Cities\""
   ]
  },
  {
   "cell_type": "markdown",
   "metadata": {},
   "source": [
    "We'll create a new column to contain the result from our function. The \"apply\" is used to apply the function that we've made before into all of the data inside a certain column."
   ]
  },
  {
   "cell_type": "code",
   "execution_count": 110,
   "metadata": {},
   "outputs": [],
   "source": [
    "locjob_ratio['Loc_grouped'] = locjob_ratio['Location'].apply(find3)"
   ]
  },
  {
   "cell_type": "markdown",
   "metadata": {},
   "source": [
    "We'll group the data by 'Loc_grouped' column, and count how many jobs are offered in those locations."
   ]
  },
  {
   "cell_type": "code",
   "execution_count": 114,
   "metadata": {},
   "outputs": [],
   "source": [
    "locjobs_ratio = locjob_ratio.groupby(['Loc_grouped']).JobTitle.count()\n",
    "locjobs_ratio = locjobs_ratio.reset_index(name=\"JobTitle\")"
   ]
  },
  {
   "cell_type": "markdown",
   "metadata": {},
   "source": [
    "This is the result of how many jobs are offered in the \"top 10 cities\" and the others"
   ]
  },
  {
   "cell_type": "code",
   "execution_count": 115,
   "metadata": {},
   "outputs": [
    {
     "data": {
      "text/html": [
       "<div>\n",
       "<style scoped>\n",
       "    .dataframe tbody tr th:only-of-type {\n",
       "        vertical-align: middle;\n",
       "    }\n",
       "\n",
       "    .dataframe tbody tr th {\n",
       "        vertical-align: top;\n",
       "    }\n",
       "\n",
       "    .dataframe thead th {\n",
       "        text-align: right;\n",
       "    }\n",
       "</style>\n",
       "<table border=\"1\" class=\"dataframe\">\n",
       "  <thead>\n",
       "    <tr style=\"text-align: right;\">\n",
       "      <th></th>\n",
       "      <th>Loc_grouped</th>\n",
       "      <th>JobTitle</th>\n",
       "    </tr>\n",
       "  </thead>\n",
       "  <tbody>\n",
       "    <tr>\n",
       "      <th>0</th>\n",
       "      <td>Other Cities</td>\n",
       "      <td>19198</td>\n",
       "    </tr>\n",
       "    <tr>\n",
       "      <th>1</th>\n",
       "      <td>Top 10 Cities</td>\n",
       "      <td>4261</td>\n",
       "    </tr>\n",
       "  </tbody>\n",
       "</table>\n",
       "</div>"
      ],
      "text/plain": [
       "     Loc_grouped  JobTitle\n",
       "0   Other Cities     19198\n",
       "1  Top 10 Cities      4261"
      ]
     },
     "execution_count": 115,
     "metadata": {},
     "output_type": "execute_result"
    }
   ],
   "source": [
    "locjobs_ratio"
   ]
  },
  {
   "cell_type": "markdown",
   "metadata": {},
   "source": [
    "This is the percentage ratio of the result, visualized in pie chart."
   ]
  },
  {
   "cell_type": "code",
   "execution_count": 116,
   "metadata": {},
   "outputs": [
    {
     "data": {
      "text/plain": [
       "<AxesSubplot:title={'center':'Cities With The Most Job Offers Percentage Ratio'}, ylabel='Percentage Ratio'>"
      ]
     },
     "execution_count": 116,
     "metadata": {},
     "output_type": "execute_result"
    },
    {
     "data": {
      "image/png": "[encoded data removed]",
      "text/plain": [
       "<Figure size 1008x432 with 1 Axes>"
      ]
     },
     "metadata": {},
     "output_type": "display_data"
    }
   ],
   "source": [
    "locjobs_ratio['JobTitle'].rename({0: 'Others', 1: 'Top 10 Cities'}).plot(kind='pie', figsize=(14,6), title='Cities With The Most Job Offers Percentage Ratio', \n",
    "                                                                           ylabel='Percentage Ratio', autopct='%1.1f%%', startangle=60)"
   ]
  },
  {
   "cell_type": "markdown",
   "metadata": {},
   "source": [
    "## Inferences\n",
    "\n",
    "Here are the summary of the data analysis in this notebook:\n",
    "\n",
    "#### Data Science Related Jobs:\n",
    "From the \"top 10 most wanted jobs\" chart, we can see that Data Scientist is the job wanted by most companies and the difference is quite huge as well compared to other jobs in the chart. But that doesn't mean Data Scientist is the only job wanted by companies. In fact, job offers for Data Scientist are just 2.7% out of the whole data science related job offers. Not only that, Data Scientist is not even on the top 10 most wanted jobs from Google, the company with the most data science related job offers. So, that means you don't have to only be Data Scientist if you want to build a career in data science. There are a lot of other opportunities that you can explore in this industry.\n",
    "\n",
    "#### Job Offers From Companies:\n",
    "As expected, companies who offer the most data science related jobs are well known \"Tech Giants\", like Google, Amazon, etc. and followed by some established business consulting companies, like Accenture and McKinsey & Company. Even though they offered a lot of data science related jobs, that doesn't make these companies the \"ruler\" of the data science job market. Based on the data, their job offers are just 16.2% out of all data science jobs offered by over 2000 companies in the world. \n",
    "\n",
    "#### Job Offers Locations:\n",
    "Based on the \"top 10 cities with the most job offers\" chart, London appears to be the cities with the most job offers available. But the difference is not that big among other locations as well, which is a good news for those who are seeking for opportunity in data science as it means that data science related jobs are wanted by companies in various locations around the world. "
   ]
  },
  {
   "cell_type": "markdown",
   "metadata": {},
   "source": [
    "## Conclusion\n",
    "\n",
    "With so many and diverse jobs available, great companies are looking for talent, and opportunities in many locations, it's safe to say that working in data science is an exciting prospect. Not only for now, but also for many years to come in the future."
   ]
  },
  {
   "cell_type": "code",
   "execution_count": null,
   "metadata": {},
   "outputs": [
    {
     "data": {
      "application/javascript": [
       "window.require && require([\"base/js/namespace\"],function(Jupyter){Jupyter.notebook.save_checkpoint()})"
      ],
      "text/plain": [
       "<IPython.core.display.Javascript object>"
      ]
     },
     "metadata": {},
     "output_type": "display_data"
    },
    {
     "name": "stdout",
     "output_type": "stream",
     "text": [
      "[jovian] Attempting to save notebook..\u001b[0m\n"
     ]
    }
   ],
   "source": [
    "jovian.commit()"
   ]
  }
 ],
 "metadata": {
  "kernelspec": {
   "display_name": "Python 3",
   "language": "python",
   "name": "python3"
  },
  "language_info": {
   "codemirror_mode": {
    "name": "ipython",
    "version": 3
   },
   "file_extension": ".py",
   "mimetype": "text/x-python",
   "name": "python",
   "nbconvert_exporter": "python",
   "pygments_lexer": "ipython3",
   "version": "3.8.3"
  }
 },
 "nbformat": 4,
 "nbformat_minor": 4
}
